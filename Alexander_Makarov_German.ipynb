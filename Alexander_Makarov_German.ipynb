{
 "cells": [
  {
   "cell_type": "markdown",
   "metadata": {},
   "source": [
    "#  Initial Package Importation"
   ]
  },
  {
   "cell_type": "code",
   "execution_count": 568,
   "metadata": {},
   "outputs": [],
   "source": [
    "import matplotlib.pyplot as plt \n",
    "%matplotlib inline\n",
    "import numpy as np\n",
    "import pandas as pd\n",
    "from numpy import sort\n",
    "from sklearn.datasets import make_classification\n",
    "from sklearn.learning_curve import learning_curve\n",
    "from sklearn.tree import DecisionTreeClassifier\n",
    "from imblearn.over_sampling import SMOTE\n",
    "from sklearn.ensemble import RandomForestClassifier \n",
    "from sklearn.metrics import precision_score, \\\n",
    "    recall_score, confusion_matrix, classification_report, \\\n",
    "    accuracy_score, f1_score, roc_curve, auc\n",
    "from sklearn.cross_validation import train_test_split\n",
    "from sklearn.grid_search import GridSearchCV\n",
    "from sklearn.cross_validation import ShuffleSplit\n",
    "import seaborn\n",
    "import urllib\n",
    "from pprint import pprint\n",
    "from xgboost import XGBClassifier\n",
    "from sklearn.model_selection import train_test_split\n",
    "from sklearn import svm\n",
    "\n",
    "import seaborn as sns\n",
    "\n",
    "\n"
   ]
  },
  {
   "cell_type": "markdown",
   "metadata": {},
   "source": [
    "# Data Reading"
   ]
  },
  {
   "cell_type": "code",
   "execution_count": 434,
   "metadata": {
    "collapsed": true
   },
   "outputs": [],
   "source": [
    "german = pd.read_csv('german.data.csv', names=[\"Status\", \"Month\", \"Credit\", \"Purpose\", \"Credit_AMT\", \"Savings\", \n",
    "                                               \"Employment\", \"Installment\", \"SexMarital\", \"Position\", \"Residence\", \n",
    "                                               \"Property\", \"Age\", \"Other_Installment\", \"Housing\", \"Existing_Credits\", \n",
    "                                               \"Job\", \"Liability\", \"Phone\", \"Foreign\", \"Prediction\"])"
   ]
  },
  {
   "cell_type": "code",
   "execution_count": 493,
   "metadata": {
    "collapsed": true
   },
   "outputs": [],
   "source": [
    "#We need to one-hot encode our categorical  variables. \n",
    "#Why? Even though Random Forest is one the most robust tecniques for handling a combination of data types.\n",
    "#However, it can still mishandle data. So, each categorical variable is modeled as a binary feature; 0\n",
    "\n",
    "german_one_hot_encode = pd.get_dummies(german)"
   ]
  },
  {
   "cell_type": "code",
   "execution_count": 494,
   "metadata": {
    "collapsed": true
   },
   "outputs": [],
   "source": [
    "#Investigation dictates Random Forests are able to deal with categorical variables.\n",
    "#It does, however, increase computational complexity to create trees; and hence, the over all forests. \n",
    "#This means that the categorical variables  might take more importance to the different number of levels of the feature. \n",
    "#For example, the mathematical process will mistake '1, 2, 3, 4, 5' as some sort of scale.\n",
    "#To combat this, we change the target class - 'Prediction', from 1 to 0, and 2 to 1. \n",
    "\n",
    "german['Prediction'] = german['Prediction'].map({1: 0, 2: 1})"
   ]
  },
  {
   "cell_type": "code",
   "execution_count": 495,
   "metadata": {
    "collapsed": true
   },
   "outputs": [],
   "source": [
    "##In order to produce our random forest, we first need to split our dataset and pinpoint the \"grount truth\". \n",
    "##A.k.a, the target class (y); the feature that shows how well the model has estimated or predicted.\n",
    "\n",
    "#We drop the Prediction class in favour of \"ground truth\", hence all the other variables are left in place.\n",
    "\n",
    "x = german_one_hot_encode.drop('Prediction', axis=1)\n",
    "\n",
    "##Only the predictor class (ground truth) is left in the splitting.\n",
    "\n",
    "y = german_one_hot_encode['Prediction']\n",
    "\n"
   ]
  },
  {
   "cell_type": "code",
   "execution_count": 496,
   "metadata": {
    "collapsed": true
   },
   "outputs": [],
   "source": [
    "#Here, we create a training dataset and a test dataset. The training dataset will be utilised to build and validate the model.\n",
    "#The test set, on the other hand, will be \"unseen\" data, to uncover how well the model works with new records of data.\n",
    "\n",
    "training_features, test_features, \\\n",
    "training_target, test_target, = train_test_split(x, y, test_size = 0.2,random_state=12)"
   ]
  },
  {
   "cell_type": "code",
   "execution_count": 497,
   "metadata": {
    "collapsed": true
   },
   "outputs": [],
   "source": [
    "##We split the data again only on the training features.\n",
    "\n",
    "x_train, x_test, y_train, y_test = train_test_split(training_features,training_target, test_size=0.2)\n"
   ]
  },
  {
   "cell_type": "markdown",
   "metadata": {},
   "source": [
    "# SMOTE Over-Sampling"
   ]
  },
  {
   "cell_type": "code",
   "execution_count": 498,
   "metadata": {
    "collapsed": true
   },
   "outputs": [],
   "source": [
    "#Indeed some confusion may arise when oversampling AFTER, rather than BEFORE. Why?\n",
    "##If we opt into oversampling BEFORE splitting the training and validation, we essentially give the training model \n",
    "#a \"sneak-peak\" of the validation segment; ultimately producing a potentially overfitted model.\n",
    "#Some of the same obervations may end up in both datasets.\n",
    "\n",
    "##s a result, the model will predict the value for those observations when making predictions on the validation set \n",
    "#yielding relatively higher accuracy and recall.\n",
    "\n",
    "#Why? This comes down to SMOTE's algorhtm of using 'nearest neighbour' to generate synthetic records. \n",
    "#Hence we split the data AGAIN on the training features and then accordingly fit to the SMOTE algorithm, \n",
    "#avoiding the \"bleeding of data that would occur when trained on the entire dataset.\n",
    "\n",
    "##CONLUSION: By oversampling only on the training segment, none of the information is leaked from the validation set when \n",
    "#SMOTE's nearest neighbour creates synthetic observation.\n",
    "\n",
    "sm = SMOTE(random_state=12)\n",
    "x_train_res, y_train_res = sm.fit_sample(x_train, y_train)"
   ]
  },
  {
   "cell_type": "markdown",
   "metadata": {},
   "source": [
    "# Function Definition"
   ]
  },
  {
   "cell_type": "code",
   "execution_count": 499,
   "metadata": {
    "collapsed": true
   },
   "outputs": [],
   "source": [
    "#A cross validation generator is used to select Train and Cross Validation(CV) data sets to finetune paramaters.\n",
    "#The idea is to not tune paramaters against the Test dataset, there will be a certain degree of bias towards the test set,\n",
    "#and hence not generalise very well.\n",
    "#There will be no way of knowing how the model does not generalise well since we would have trained on all our data.\n",
    "\n",
    "#The counteractive process is implemented below.\n",
    "\n",
    "#General Overview: A crossvalidation generator is used to train the modek by tuning certain paramaters based on a CV set\n",
    "#that is picked from the training set. A different cv set will be picked for each iteration\n",
    "#The CV/Train set splits are inputted into gridsearch function that evaluates the model with each split and tune parameters\n",
    "#enabling us the ability to observe the optimal parameter combination that gives the best result.\n",
    "\n",
    "#We define this entire process as a function so that we are able to call it at anytime\n",
    "\n",
    "def fit_trees(n_jobs, max_depth, n_estimators): \n",
    "    \n",
    "#Estimator chosen as RandomForestClassifier as per initial team discussion.\n",
    "\n",
    "    estimator = RandomForestClassifier() \n",
    "\n",
    "#Shuffle split is chosen to randomly shuffle and select Train and CV sets for each iteration.\n",
    "\n",
    "    cv = ShuffleSplit(x_train_res.shape[0], n_iter=10, test_size=0.2)\n",
    "    \n",
    "#GridSearchCV is used to apply the CV iterator on the Training set.\n",
    "#Effectively, this will allow the classifier to run on the different Train/CV splits\n",
    "#Using paramaters specificied, it will return the model that has the best results.\n",
    "\n",
    "    classifier = GridSearchCV(estimator=estimator, cv=cv, \n",
    "                              param_grid=dict(n_estimators=n_estimators, max_depth=max_depth), n_jobs=n_jobs, scoring='f1')\n",
    "    \n",
    "#The training dataset is fit to this classifier.\n",
    "\n",
    "    classifier.fit(x_train_res, y_train_res)\n",
    "    \n",
    "#Now, we observe the best estimator/paramater combination that was located by the GridSearchCV.   \n",
    "    print (\"Best Estimator\") \n",
    "    print (classifier.best_estimator_)\n",
    "    \n",
    "    return cv, classifier.best_estimator_.max_depth, classifier.best_estimator_.n_estimators "
   ]
  },
  {
   "cell_type": "code",
   "execution_count": 500,
   "metadata": {
    "collapsed": true
   },
   "outputs": [],
   "source": [
    "import matplotlib.pyplot as plt\n",
    "from sklearn import cross_validation\n",
    "from sklearn.naive_bayes import GaussianNB\n",
    "from sklearn.datasets import load_digits\n",
    "from sklearn.learning_curve import learning_curve"
   ]
  },
  {
   "cell_type": "code",
   "execution_count": 501,
   "metadata": {
    "collapsed": true
   },
   "outputs": [],
   "source": [
    "#Again, we define a function that utilises the plot_learning curve module; it is called in the next section.\n",
    "#An effective visualisation tool that observes how well the model is performing based on a number of samples trained on.\n",
    "#Unusual situations such as bias and high variance can be explored - discussed in the next section, as well.\n",
    "\n",
    "def plot_learning_curve(estimator, title, x, y, ylim=None, cv=None, n_jobs=1, train_sizes=np.linspace(.1, 1.0, 5)):\n",
    "    plt.figure()\n",
    "    plt.title(title)\n",
    "    if ylim is not None:\n",
    "        plt.ylim(*ylim)\n",
    "    plt.xlabel(\"Training examples\")\n",
    "    plt.ylabel(\"Score\")\n",
    "    train_sizes, train_scores, test_scores = learning_curve(\n",
    "        estimator, x, y, cv=cv, n_jobs=n_jobs, train_sizes=train_sizes)\n",
    "    train_scores_mean = np.mean(train_scores, axis=1)\n",
    "    train_scores_std = np.std(train_scores, axis=1)\n",
    "    test_scores_mean = np.mean(test_scores, axis=1)\n",
    "    test_scores_std = np.std(test_scores, axis=1)\n",
    "    plt.grid()\n",
    "    \n",
    "    plt.fill_between(train_sizes, train_scores_mean - train_scores_std, \n",
    "                     train_scores_mean + train_scores_std, alpha=0.1,\n",
    "                     color=\"r\")\n",
    "    plt.fill_between(train_sizes, test_scores_mean - test_scores_std, \n",
    "                    test_scores_mean + test_scores_std, alpha=0.1, color=\"g\") \n",
    "    plt.plot(train_sizes, train_scores_mean, 'o-', color=\"r\", \n",
    "             label=\"Training score\")\n",
    "    plt.plot(train_sizes, test_scores_mean, 'o-', color=\"g\", \n",
    "             label=\"Cross-validation score\")\n",
    "    plt.legend(loc=\"best\")\n",
    "    return plt"
   ]
  },
  {
   "cell_type": "code",
   "execution_count": 502,
   "metadata": {
    "collapsed": true
   },
   "outputs": [],
   "source": [
    "max_depth=np.linspace(5,10,5) \n",
    "n_estimators=[10, 100, 500, 1000]"
   ]
  },
  {
   "cell_type": "code",
   "execution_count": 503,
   "metadata": {
    "scrolled": true
   },
   "outputs": [
    {
     "name": "stdout",
     "output_type": "stream",
     "text": [
      "Best Estimator\n",
      "RandomForestClassifier(bootstrap=True, class_weight=None, criterion='gini',\n",
      "            max_depth=6.25, max_features='auto', max_leaf_nodes=None,\n",
      "            min_impurity_decrease=0.0, min_impurity_split=None,\n",
      "            min_samples_leaf=1, min_samples_split=2,\n",
      "            min_weight_fraction_leaf=0.0, n_estimators=500, n_jobs=1,\n",
      "            oob_score=False, random_state=None, verbose=0,\n",
      "            warm_start=False)\n"
     ]
    }
   ],
   "source": [
    "#Fit the Random Forest to the training dataset by calling the function we created earlier\n",
    "cv,max_depth,n_estimators=fit_trees(n_jobs=10, max_depth=max_depth, n_estimators=n_estimators)\n",
    "\n",
    "#The grid search returns an optimal fit with n_estimators =500 and max depth=6.25"
   ]
  },
  {
   "cell_type": "code",
   "execution_count": 504,
   "metadata": {},
   "outputs": [
    {
     "data": {
      "image/png": "[encoded data removed]",
      "text/plain": [
       "<matplotlib.figure.Figure at 0x16e2bf43048>"
      ]
     },
     "metadata": {},
     "output_type": "display_data"
    }
   ],
   "source": [
    "#Plot the learning curve to see if there exists any overfitting.\n",
    "title = \"Learning Curves (Random Forests, n_estimators=%.6f)\" %(n_estimators) \n",
    "estimator = RandomForestClassifier(n_estimators=n_estimators, max_depth=max_depth, n_jobs=10) \n",
    "plot_learning_curve(estimator, title, x_train_res, y_train_res, cv=cv) \n",
    "plt.show() 67\n",
    "\n",
    "#Not bad; it seems we have a resonable fit with a tinge of overfitting. \n",
    "#The training sctore (redline) is aproximately at its maximum only dropping ~5% across 800 training examples\n",
    "#This implies a heavy sense of overfitting\n",
    "\n",
    "#However, the cross validation score (green-line) increases over time.\n",
    "#Despite these two lines converging, the huge gabs between the cross validation score and training score\n",
    "#indicates a high variance scenario.\n",
    "\n",
    "#This can be solved by reducing complexity or gather more data i.e PCA for reduction"
   ]
  },
  {
   "cell_type": "markdown",
   "metadata": {},
   "source": [
    "# Tree based feature selection and random forest classification"
   ]
  },
  {
   "cell_type": "code",
   "execution_count": 505,
   "metadata": {},
   "outputs": [
    {
     "data": {
      "text/plain": [
       "RandomForestClassifier(bootstrap=True, class_weight=None, criterion='gini',\n",
       "            max_depth=6.25, max_features='auto', max_leaf_nodes=None,\n",
       "            min_impurity_decrease=0.0, min_impurity_split=None,\n",
       "            min_samples_leaf=1, min_samples_split=2,\n",
       "            min_weight_fraction_leaf=0.0, n_estimators=500, n_jobs=10,\n",
       "            oob_score=False, random_state=None, verbose=0,\n",
       "            warm_start=False)"
      ]
     },
     "execution_count": 505,
     "metadata": {},
     "output_type": "execute_result"
    }
   ],
   "source": [
    "#Calling upon fit on the estimator so that we can look at feature importances.\n",
    "\n",
    "estimator.fit(x_train_res,y_train_res)"
   ]
  },
  {
   "cell_type": "code",
   "execution_count": 506,
   "metadata": {
    "scrolled": true
   },
   "outputs": [
    {
     "name": "stdout",
     "output_type": "stream",
     "text": [
      "Statlog Credit Data - Feature Importances\n",
      "\n",
      "[ 0.04860032  0.03827031  0.01398527  0.02037138  0.02210999  0.00894899\n",
      "  0.00741821  0.08502809  0.03729263  0.0058674   0.12579301  0.00907466\n",
      "  0.00748906  0.01248704  0.00461853  0.03305461  0.01864687  0.00691248\n",
      "  0.00088625  0.00756258  0.0401481   0.00046382  0.00089026  0.006478\n",
      "  0.00028375  0.00299746  0.0512893   0.00538735  0.0013614   0.00211271\n",
      "  0.02573206  0.00507388  0.02129524  0.00827023  0.00716119  0.00872856\n",
      "  0.00371874  0.01030191  0.01817948  0.00316903  0.00561872  0.00294354\n",
      "  0.00432719  0.0221876   0.00635126  0.00831086  0.01942491  0.01193411\n",
      "  0.00882524  0.02548688  0.01534496  0.04672163  0.01323744  0.00063965\n",
      "  0.00760133  0.01160369  0.01020247  0.01911658  0.01953887  0.00136714\n",
      "  0.00175578]\n",
      "\n"
     ]
    }
   ],
   "source": [
    "#Output the feature importances in order of variable input from the .csv file.\n",
    "\n",
    "print (\"German Credit Data - Feature Importances\\n\" )\n",
    "print (estimator.feature_importances_)\n",
    "print ()\n"
   ]
  },
  {
   "cell_type": "code",
   "execution_count": 507,
   "metadata": {},
   "outputs": [
    {
     "name": "stdout",
     "output_type": "stream",
     "text": [
      "Top 15 Features:\n",
      "1. feature 10 (0.125793)\n",
      "2. feature 7 (0.085028)\n",
      "3. feature 26 (0.051289)\n",
      "4. feature 0 (0.048600)\n",
      "5. feature 51 (0.046722)\n",
      "6. feature 20 (0.040148)\n",
      "7. feature 1 (0.038270)\n",
      "8. feature 8 (0.037293)\n",
      "9. feature 15 (0.033055)\n",
      "10. feature 30 (0.025732)\n",
      "11. feature 49 (0.025487)\n",
      "12. feature 43 (0.022188)\n",
      "13. feature 4 (0.022110)\n",
      "14. feature 32 (0.021295)\n",
      "15. feature 3 (0.020371)\n"
     ]
    },
    {
     "data": {
      "image/png": "[encoded data removed]",
      "text/plain": [
       "<matplotlib.figure.Figure at 0x16e2536efd0>"
      ]
     },
     "metadata": {},
     "output_type": "display_data"
    },
    {
     "name": "stdout",
     "output_type": "stream",
     "text": [
      "Mean Feature Importance 0.016393\n"
     ]
    }
   ],
   "source": [
    "#Calculate the feature raking - Top 15 (This is an arbitrary number)\n",
    "\n",
    "importances = estimator.feature_importances_\n",
    "std = np.std([tree.feature_importances_ for tree in estimator.estimators_],\n",
    "             axis=0)\n",
    "indices = np.argsort(importances)[::-1]\n",
    "\n",
    "print(\"Top 15 Features:\")\n",
    "\n",
    "for f in range(15):\n",
    "    print (\"%d. feature %d (%f)\" % (f+1, indices[f], importances[indices[f]]))\n",
    "    \n",
    "#Plot the top 15 feature importances of the random fores\n",
    "    \n",
    "indices=indices[:15]\n",
    "plt.figure()\n",
    "plt.title(\"Top 15 Feature Importances\")\n",
    "plt.bar(range(15), importances[indices],\n",
    "        color=\"r\", yerr=std[indices], align=\"center\")\n",
    "plt.xticks(range(15), indices)\n",
    "plt.xlim([-1, 15])\n",
    "plt.show()\n",
    "\n",
    "#Mean Feature Importance (this is important for transforming the features that do not meet the 'mean' threshold. )\n",
    "\n",
    "print (\"Mean Feature Importance %.6f\" %np.mean(importances))"
   ]
  },
  {
   "cell_type": "code",
   "execution_count": 508,
   "metadata": {},
   "outputs": [],
   "source": [
    "#It is clear that some features take a higher state of importance than others.\n",
    "#In order to extract these features, we will do a form of trimming. \n",
    "#Training set is transformed to include only features that are atleast above the 'mean threshold'.\n",
    "\n",
    "from sklearn.feature_selection import SelectFromModel\n",
    "\n",
    "#SelectFromModel extracts these features. The mean as a threshold is set as a default paramater.\n",
    "\n",
    "model = SelectFromModel(estimator, prefit='True')\n",
    "\n",
    "#and then transformed onto the original data segments parsed through in the previous section.\n",
    "x_train_res = model.transform(x_train_res)\n",
    "x_test_r = model.transform(x_test)\n",
    "\n",
    "\n"
   ]
  },
  {
   "cell_type": "code",
   "execution_count": 509,
   "metadata": {},
   "outputs": [
    {
     "data": {
      "text/plain": [
       "RandomForestClassifier(bootstrap=True, class_weight=None, criterion='gini',\n",
       "            max_depth=6.25, max_features='auto', max_leaf_nodes=None,\n",
       "            min_impurity_decrease=0.0, min_impurity_split=None,\n",
       "            min_samples_leaf=1, min_samples_split=2,\n",
       "            min_weight_fraction_leaf=0.0, n_estimators=500, n_jobs=10,\n",
       "            oob_score=False, random_state=None, verbose=0,\n",
       "            warm_start=False)"
      ]
     },
     "execution_count": 509,
     "metadata": {},
     "output_type": "execute_result"
    }
   ],
   "source": [
    "#Calling upon fit on the estimator for the feature importances coefficient. \n",
    "\n",
    "estimator.fit(x_train_res,y_train_res)"
   ]
  },
  {
   "cell_type": "code",
   "execution_count": 510,
   "metadata": {
    "collapsed": true
   },
   "outputs": [],
   "source": [
    "#Running predictions on Test\n",
    "\n",
    "y_pred=estimator.predict(x_test_r)"
   ]
  },
  {
   "cell_type": "code",
   "execution_count": 511,
   "metadata": {},
   "outputs": [
    {
     "name": "stdout",
     "output_type": "stream",
     "text": [
      "             precision    recall  f1-score   support\n",
      "\n",
      "          0       0.82      0.80      0.81       109\n",
      "          1       0.59      0.63      0.61        51\n",
      "\n",
      "avg / total       0.75      0.74      0.75       160\n",
      "\n",
      "\n",
      "Final Generalisation Accuracy: 0.743750\n"
     ]
    }
   ],
   "source": [
    "#74% is a fairly decent result. By dropping trimmed features by looking at feature_importances \n",
    "#we were able to get an ok-score. \n",
    "\n",
    "print (classification_report(y_test,y_pred))\n",
    "print()\n",
    "print(\"Final Generalisation Accuracy: %.6f\" %accuracy_score(y_test, y_pred))"
   ]
  },
  {
   "cell_type": "markdown",
   "metadata": {
    "collapsed": true
   },
   "source": [
    "# Feature Selection with correlation and random forest classification\n",
    "\n"
   ]
  },
  {
   "cell_type": "code",
   "execution_count": 512,
   "metadata": {},
   "outputs": [
    {
     "data": {
      "text/plain": [
       "<matplotlib.axes._subplots.AxesSubplot at 0x16e252a8320>"
      ]
     },
     "execution_count": 512,
     "metadata": {},
     "output_type": "execute_result"
    },
    {
     "data": {
      "image/png": "[encoded data removed]",
      "text/plain": [
       "<matplotlib.figure.Figure at 0x16e2bf880b8>"
      ]
     },
     "metadata": {},
     "output_type": "display_data"
    }
   ],
   "source": [
    "#As it can be seen in the heat map figure, Credit_AMT and Month are the highest correlated features sitting at 0.6\n",
    "\n",
    "\n",
    "f,ax = plt.subplots(figsize=(10, 10))\n",
    "sns.heatmap(german.drop('Prediction', axis=1).corr(), annot=True, linewidths=.5, fmt= '.1f',ax=ax)"
   ]
  },
  {
   "cell_type": "code",
   "execution_count": 513,
   "metadata": {
    "collapsed": true
   },
   "outputs": [],
   "source": [
    "#We drop the Month paramater because it is correlated with the Credit_AMT. \n",
    "#It seems logical to drop Month because Credit_AMT will most likely have an impact on potential default.\n",
    "#Why do we do this? Correlations between features impact the feature importance measure, and the predictability of the model.\n",
    "x = x.drop('Month', axis =1)\n"
   ]
  },
  {
   "cell_type": "code",
   "execution_count": 514,
   "metadata": {
    "collapsed": true
   },
   "outputs": [],
   "source": [
    "training_features, test_features, \\\n",
    "training_target, test_target, = train_test_split(x, y, test_size = 0.2,random_state=12)"
   ]
  },
  {
   "cell_type": "code",
   "execution_count": 515,
   "metadata": {
    "collapsed": true
   },
   "outputs": [],
   "source": [
    "x_train, x_test, y_train, y_test = train_test_split(training_features,training_target, test_size=0.2)"
   ]
  },
  {
   "cell_type": "code",
   "execution_count": 516,
   "metadata": {
    "collapsed": true
   },
   "outputs": [],
   "source": [
    "sm = SMOTE(random_state=12)\n",
    "x_train_res, y_train_res = sm.fit_sample(x_train, y_train)"
   ]
  },
  {
   "cell_type": "code",
   "execution_count": 517,
   "metadata": {
    "collapsed": true
   },
   "outputs": [],
   "source": [
    "max_depth=np.linspace(5,10,5) \n",
    "n_estimators=[10, 100, 500, 1000] "
   ]
  },
  {
   "cell_type": "code",
   "execution_count": 518,
   "metadata": {},
   "outputs": [
    {
     "name": "stdout",
     "output_type": "stream",
     "text": [
      "Best Estimator\n",
      "RandomForestClassifier(bootstrap=True, class_weight=None, criterion='gini',\n",
      "            max_depth=8.75, max_features='auto', max_leaf_nodes=None,\n",
      "            min_impurity_decrease=0.0, min_impurity_split=None,\n",
      "            min_samples_leaf=1, min_samples_split=2,\n",
      "            min_weight_fraction_leaf=0.0, n_estimators=1000, n_jobs=1,\n",
      "            oob_score=False, random_state=None, verbose=0,\n",
      "            warm_start=False)\n"
     ]
    }
   ],
   "source": [
    "cv,max_depth,n_estimators=fit_trees(n_jobs=10, max_depth=max_depth, n_estimators=n_estimators)"
   ]
  },
  {
   "cell_type": "code",
   "execution_count": 519,
   "metadata": {},
   "outputs": [
    {
     "data": {
      "image/png": "[encoded data removed]",
      "text/plain": [
       "<matplotlib.figure.Figure at 0x16e2367fc50>"
      ]
     },
     "metadata": {},
     "output_type": "display_data"
    }
   ],
   "source": [
    "title = \"Learning Curves (Random Forests, n_estimators=%.6f)\" %(n_estimators) \n",
    "estimator = RandomForestClassifier(n_estimators=n_estimators, max_depth=max_depth, n_jobs=10) \n",
    "plot_learning_curve(estimator, title, x_train_res, y_train_res, cv=cv) \n",
    "plt.show() "
   ]
  },
  {
   "cell_type": "code",
   "execution_count": 520,
   "metadata": {
    "scrolled": true
   },
   "outputs": [
    {
     "name": "stdout",
     "output_type": "stream",
     "text": [
      "             precision    recall  f1-score   support\n",
      "\n",
      "          0       0.81      0.91      0.86       116\n",
      "          1       0.65      0.45      0.53        44\n",
      "\n",
      "avg / total       0.77      0.78      0.77       160\n",
      "\n",
      "\n",
      "Random Forests: Final Generalisation Accuracy: 0.781250\n"
     ]
    }
   ],
   "source": [
    "#78% is a lot better than the previous, but still not good enough. By dropping the Month feature, we are able to produce\n",
    "#approximately 4% higher.\n",
    "\n",
    "estimator.fit(x_train_res,y_train_res)\n",
    "y_pred=estimator.predict(x_test)\n",
    "print (classification_report(y_test,y_pred))\n",
    "print()\n",
    "print(\"Random Forests: Final Generalisation Accuracy: %.6f\" %accuracy_score(y_test, y_pred))"
   ]
  },
  {
   "cell_type": "markdown",
   "metadata": {},
   "source": [
    "# Univariate feature selection and random forest classification"
   ]
  },
  {
   "cell_type": "code",
   "execution_count": 521,
   "metadata": {
    "collapsed": true
   },
   "outputs": [],
   "source": [
    "#In univariate feature selection, we will use SelectKBest that removes all but the k highest scoring features.\n",
    "\n",
    "#In this method we choose how many features we will use. \n",
    "#For example, will k (number of features) be 5 or 10 or 15? The answer is only trying or intuitively. \n",
    "# k = 45 is chosen based on the Recursive feature elimination process based afterwards, as the best validation score\n",
    "#given by the amount of features selected. Please see Recursive feature elimination. \n",
    "\n",
    "from sklearn.feature_selection import SelectKBest\n",
    "from sklearn.feature_selection import chi2"
   ]
  },
  {
   "cell_type": "code",
   "execution_count": 522,
   "metadata": {
    "collapsed": true
   },
   "outputs": [],
   "source": [
    "#The process is repeated as previously designed.\n",
    "\n",
    "##PROCESS START\n",
    "\n",
    "x = german_one_hot_encode.drop('Prediction', axis=1)\n",
    "y = german_one_hot_encode['Prediction']"
   ]
  },
  {
   "cell_type": "code",
   "execution_count": 523,
   "metadata": {
    "collapsed": true
   },
   "outputs": [],
   "source": [
    "training_features, test_features, \\\n",
    "training_target, test_target, = train_test_split(x, y, test_size = 0.2,random_state=12)\n"
   ]
  },
  {
   "cell_type": "code",
   "execution_count": 524,
   "metadata": {
    "collapsed": true
   },
   "outputs": [],
   "source": [
    "x_train, x_test, y_train, y_test = train_test_split(training_features,training_target, test_size=0.2)"
   ]
  },
  {
   "cell_type": "code",
   "execution_count": 525,
   "metadata": {
    "collapsed": true
   },
   "outputs": [],
   "source": [
    "sm = SMOTE(random_state=12)\n",
    "x_train_res, y_train_res = sm.fit_sample(x_train, y_train)"
   ]
  },
  {
   "cell_type": "code",
   "execution_count": 526,
   "metadata": {
    "collapsed": true
   },
   "outputs": [],
   "source": [
    "max_depth=np.linspace(5,10,5) \n",
    "n_estimators=[10, 100, 500, 1000]"
   ]
  },
  {
   "cell_type": "code",
   "execution_count": 527,
   "metadata": {},
   "outputs": [
    {
     "name": "stdout",
     "output_type": "stream",
     "text": [
      "Best Estimator\n",
      "RandomForestClassifier(bootstrap=True, class_weight=None, criterion='gini',\n",
      "            max_depth=7.5, max_features='auto', max_leaf_nodes=None,\n",
      "            min_impurity_decrease=0.0, min_impurity_split=None,\n",
      "            min_samples_leaf=1, min_samples_split=2,\n",
      "            min_weight_fraction_leaf=0.0, n_estimators=100, n_jobs=1,\n",
      "            oob_score=False, random_state=None, verbose=0,\n",
      "            warm_start=False)\n"
     ]
    }
   ],
   "source": [
    "cv,max_depth,n_estimators=fit_trees(n_jobs=10, max_depth=max_depth, n_estimators=n_estimators)\n",
    "\n",
    "### PROCESS END."
   ]
  },
  {
   "cell_type": "code",
   "execution_count": 528,
   "metadata": {
    "collapsed": true
   },
   "outputs": [],
   "source": [
    "# find best scored 45 features\n",
    "\n",
    "select_feature = SelectKBest(chi2, k=45).fit(x_train_res, y_train_res)"
   ]
  },
  {
   "cell_type": "code",
   "execution_count": 529,
   "metadata": {
    "scrolled": true
   },
   "outputs": [
    {
     "name": "stdout",
     "output_type": "stream",
     "text": [
      "Score list: [  4.58080145e+02   6.82957817e+04   2.93735004e+00   2.67991142e-01\n",
      "   7.48891212e+01   2.78567349e-01   4.50511770e-01   3.61588254e+01\n",
      "   1.37300966e+01   5.62715876e+00   7.15476489e+01   8.05979475e+00\n",
      "   6.10159942e+00   2.46108012e+00   7.46640826e-02   2.19625376e+01\n",
      "   3.80793602e+00   1.08611438e+01   3.22014486e-02   1.03311304e+00\n",
      "   8.20287496e+00   1.20502515e-02   2.32293301e+00   3.46702803e+00\n",
      "   2.23452617e+00   2.07612735e+00   1.20591235e+01   2.54538159e-01\n",
      "   6.54060779e+00   8.65821083e+00   1.99460256e+01   1.73352159e+00\n",
      "   8.51209280e+00   9.11488480e-02   9.20524361e-01   7.70511023e+00\n",
      "   9.99839938e-01   2.89196015e+00   3.71910003e+00   6.94052289e-01\n",
      "   1.27970471e-03   2.76451773e+00   1.62058733e+00   7.98254981e+00\n",
      "   4.10774486e-01   2.46405659e+00   4.83710319e+00   5.94015375e+00\n",
      "   9.35730214e-01   1.94319494e+00   1.15033430e+01   4.68153024e+00\n",
      "   4.05176589e-01   4.98818243e-02   1.50662139e+00   1.48188233e-01\n",
      "   4.12170116e-01   1.44853949e+00   2.30559962e+00   1.50975041e-01\n",
      "   5.15552629e+00]\n"
     ]
    }
   ],
   "source": [
    "print('Score list:', select_feature.scores_)"
   ]
  },
  {
   "cell_type": "code",
   "execution_count": 530,
   "metadata": {
    "collapsed": true
   },
   "outputs": [],
   "source": [
    "#So lets se what happens if we use only these best scored 45 features?\n",
    "x_train_res_2 = select_feature.transform(x_train_res)\n",
    "x_test_2 = select_feature.transform(x_test)"
   ]
  },
  {
   "cell_type": "code",
   "execution_count": 531,
   "metadata": {},
   "outputs": [
    {
     "data": {
      "image/png": "[encoded data removed]",
      "text/plain": [
       "<matplotlib.figure.Figure at 0x16e22e42400>"
      ]
     },
     "metadata": {},
     "output_type": "display_data"
    }
   ],
   "source": [
    "title = \"Learning Curves (Random Forests, n_estimators=%.6f)\" %(n_estimators) \n",
    "estimator = RandomForestClassifier(n_estimators=n_estimators, max_depth=max_depth, n_jobs=10) \n",
    "plot_learning_curve(estimator, title, x_train_res_2, y_train_res, cv=cv) \n",
    "plt.show() "
   ]
  },
  {
   "cell_type": "code",
   "execution_count": 532,
   "metadata": {},
   "outputs": [
    {
     "name": "stdout",
     "output_type": "stream",
     "text": [
      "             precision    recall  f1-score   support\n",
      "\n",
      "          0       0.78      0.89      0.83       107\n",
      "          1       0.68      0.49      0.57        53\n",
      "\n",
      "avg / total       0.75      0.76      0.74       160\n",
      "\n",
      "Unvariate Generalized Accuracy is:  0.75625\n"
     ]
    }
   ],
   "source": [
    "#Hmm, this is still okay. The accuracy seems to exist to be inbetween the first two models created.\n",
    "\n",
    "estimator.fit(x_train_res_2,y_train_res)\n",
    "uni_accuracy = accuracy_score(y_test, estimator.predict(x_test_2))\n",
    "print (classification_report(y_test,estimator.predict(x_test_2)))\n",
    "print('Unvariate Generalized Accuracy is: ', uni_accuracy)"
   ]
  },
  {
   "cell_type": "markdown",
   "metadata": {},
   "source": [
    "# Recursive feature elimination with cross validation and random forest classification"
   ]
  },
  {
   "cell_type": "code",
   "execution_count": 533,
   "metadata": {
    "collapsed": true
   },
   "outputs": [],
   "source": [
    "#Basically, the recursive feature elimination assigns weights to each of features using the random forest,\n",
    "#whose absolute weights are the smallest are pruned from the current set features. \n",
    "#The procedure is recursively repeated on the pruned set until the desired number of features is outputted.\n",
    "\n",
    "#We will not only find best features but we also find how many features do we need for best accuracy.\n",
    "#A \"cross-iteration\" of sorts between models, we use the best  number of features in the Univariate feature selection.\n",
    "\n",
    "from sklearn.feature_selection import RFECV"
   ]
  },
  {
   "cell_type": "code",
   "execution_count": 534,
   "metadata": {},
   "outputs": [],
   "source": [
    "#Create the RFE object and rank each attribute\n",
    "\n",
    "rfecv = RFECV(estimator=estimator, step=1, cv=5,scoring='accuracy')   #5-fold cross-validation\n",
    "rfecv = rfecv.fit(x_train_res, y_train_res)"
   ]
  },
  {
   "cell_type": "code",
   "execution_count": 571,
   "metadata": {},
   "outputs": [
    {
     "data": {
      "image/png": "[encoded data removed]",
      "text/plain": [
       "<matplotlib.figure.Figure at 0x16e2c0b5080>"
      ]
     },
     "metadata": {},
     "output_type": "display_data"
    }
   ],
   "source": [
    "## Plot number of features verses the cross-validation scores\n",
    "plt.figure()\n",
    "plt.xlabel(\"Number of features selected\")\n",
    "plt.ylabel(\"Cross validation score of number of selected features\")\n",
    "plt.plot(range(1, len(rfecv.grid_scores_) + 1), rfecv.grid_scores_)\n",
    "plt.show()\n",
    "\n",
    "#It is clear that the optimal amount of features selected out of the entire 61 would be 45 (This is the input for the\n",
    "#univariate feature selection)"
   ]
  },
  {
   "cell_type": "markdown",
   "metadata": {},
   "source": [
    "# Feature Exraction with PCA"
   ]
  },
  {
   "cell_type": "code",
   "execution_count": 536,
   "metadata": {},
   "outputs": [],
   "source": [
    "#We will use principle component analysis (PCA) for feature extraction. \n",
    "#The idea behind PCA is we compress our original feature space into a linear dimension.\n",
    "#This will reduce complexity and possibly increase the generalised accuracy.\n",
    "\n",
    "#Before PCA, we need to normalize data for better performance of PCA.\n",
    "\n",
    "x_train_N = (x_train-x_train.mean())/(x_train.max()-x_train.min())\n",
    "x_test_N = (x_test-x_test.mean())/(x_test.max()-x_test.min())\n",
    "\n",
    "from sklearn.decomposition import PCA"
   ]
  },
  {
   "cell_type": "code",
   "execution_count": 542,
   "metadata": {
    "collapsed": true
   },
   "outputs": [],
   "source": [
    "#A visualisation is necessary to output the variance explained throughout a plethora of components. \n",
    "#Hence, we use our entire feature space count when defining the initial PCA function.\n",
    "\n",
    "pca = PCA(n_components = 61)"
   ]
  },
  {
   "cell_type": "code",
   "execution_count": 543,
   "metadata": {},
   "outputs": [],
   "source": [
    "#Fit the normalised Training Set on to the PCA function.\n",
    "train_features = pca.fit(x_train_N)"
   ]
  },
  {
   "cell_type": "code",
   "execution_count": 544,
   "metadata": {
    "collapsed": true
   },
   "outputs": [],
   "source": [
    "#Direct the variance \n",
    "variance = pca.explained_variance_ratio_ "
   ]
  },
  {
   "cell_type": "code",
   "execution_count": 545,
   "metadata": {},
   "outputs": [
    {
     "data": {
      "text/plain": [
       "array([   9.6,   16.5,   22.6,   28.3,   33.4,   38.2,   42.6,   46.6,\n",
       "         50.5,   54.4,   57.9,   61.1,   64. ,   66.7,   69.2,   71.5,\n",
       "         73.7,   75.8,   77.8,   79.6,   81.3,   82.9,   84.4,   85.8,\n",
       "         87.1,   88.3,   89.4,   90.4,   91.3,   92.2,   93. ,   93.8,\n",
       "         94.5,   95.2,   95.9,   96.5,   97.1,   97.6,   98. ,   98.4,\n",
       "         98.8,   99.1,   99.4,   99.6,   99.8,   99.9,  100. ,  100.1,\n",
       "        100.1,  100.1,  100.1,  100.1,  100.1])"
      ]
     },
     "execution_count": 545,
     "metadata": {},
     "output_type": "execute_result"
    }
   ],
   "source": [
    "#cumulative sum of variance explained with [61] features\n",
    "\n",
    "var=np.cumsum(np.round(pca.explained_variance_ratio_, decimals=3)*100)\n",
    "var \n"
   ]
  },
  {
   "cell_type": "code",
   "execution_count": 546,
   "metadata": {},
   "outputs": [
    {
     "data": {
      "text/plain": [
       "[<matplotlib.lines.Line2D at 0x16e2c048518>]"
      ]
     },
     "execution_count": 546,
     "metadata": {},
     "output_type": "execute_result"
    },
    {
     "data": {
      "image/png": "[encoded data removed]",
      "text/plain": [
       "<matplotlib.figure.Figure at 0x16e2366da90>"
      ]
     },
     "metadata": {},
     "output_type": "display_data"
    }
   ],
   "source": [
    "#In the above array we see that the first feature explains roughly 10% of the variance within our data set \n",
    "#Whilst the first two explain 16.% and so on. If we employ 45 features we capture 99.8% of the variance within the dataset, \n",
    "#thus we gain very little by implementing an additional features.\n",
    "\n",
    "#We plot the Variance explaned across the number of features below.\n",
    "\n",
    "plt.ylabel('% Variance Explained')\n",
    "plt.xlabel('# of Features')\n",
    "plt.title('PCA Analysis')\n",
    "plt.ylim(30,100.5)\n",
    "plt.style.context('seaborn-whitegrid')\n",
    "\n",
    "\n",
    "plt.plot(var)\n",
    "\n",
    "#At 45, it completely plateaus."
   ]
  },
  {
   "cell_type": "code",
   "execution_count": 547,
   "metadata": {},
   "outputs": [],
   "source": [
    "#As we can see in the above PCA Analysis table, the ideal complexity remains at 45 components, rather than the full 61 features.\n",
    "#We now need to extract these componenets and feed them into an entirely new Random Forest Classifier.\n",
    "\n",
    "# initiate PCA and classifier\n",
    "\n",
    "pca = PCA(n_components=45)\n",
    "forest = RandomForestClassifier(n_estimators=500)"
   ]
  },
  {
   "cell_type": "code",
   "execution_count": 548,
   "metadata": {
    "collapsed": true
   },
   "outputs": [],
   "source": [
    "#SciKit learn has a convenient tool called Pipeline which lets you chain together transformers and a final classifier:\n",
    "pipe = Pipeline(steps=[('pca', pca), ('forest', forest)])"
   ]
  },
  {
   "cell_type": "code",
   "execution_count": 549,
   "metadata": {},
   "outputs": [
    {
     "data": {
      "text/plain": [
       "Pipeline(memory=None,\n",
       "     steps=[('pca', PCA(copy=True, iterated_power='auto', n_components=45, random_state=None,\n",
       "  svd_solver='auto', tol=0.0, whiten=False)), ('forest', RandomForestClassifier(bootstrap=True, class_weight=None, criterion='gini',\n",
       "            max_depth=None, max_features='auto', max_leaf_nodes=None,\n",
       "        ...n_jobs=1,\n",
       "            oob_score=False, random_state=None, verbose=0,\n",
       "            warm_start=False))])"
      ]
     },
     "execution_count": 549,
     "metadata": {},
     "output_type": "execute_result"
    }
   ],
   "source": [
    "#fit the pipeline with the Training Set which is applied to both the inititated pca and random forest classifier\n",
    "pipe.fit(x_train, y_train)"
   ]
  },
  {
   "cell_type": "code",
   "execution_count": 550,
   "metadata": {},
   "outputs": [
    {
     "name": "stdout",
     "output_type": "stream",
     "text": [
      "Accuracy with RandomForest: 70.625000%\n"
     ]
    }
   ],
   "source": [
    "#Calculate the accuracy for the original test set\n",
    "\n",
    "test_predictions = pipe.predict(x_test)\n",
    "precision = accuracy_score(test_predictions, y_test) * 100\n",
    "print(\"Accuracy with RandomForest: {0:.6f}%\".format(precision))"
   ]
  },
  {
   "cell_type": "code",
   "execution_count": 551,
   "metadata": {
    "collapsed": true
   },
   "outputs": [],
   "source": [
    "#Use the pipeline in conjuction with Grid Search to obtain the best results\n",
    "\n",
    "#Because we already know that 45 components explains 99.8& of variance, we simply leave n_components = 45.\n",
    "\n",
    "param_dict = {\"pca__n_components\":[45\n",
    "                                                                     \n",
    "                                ],\n",
    "              \"forest__n_estimators\":[100, 200, 500, 800]}\n",
    "\n",
    "estimator = GridSearchCV(pipe,\n",
    "                         param_dict,\n",
    "                         verbose=2)"
   ]
  },
  {
   "cell_type": "code",
   "execution_count": 552,
   "metadata": {},
   "outputs": [
    {
     "name": "stdout",
     "output_type": "stream",
     "text": [
      "Fitting 3 folds for each of 4 candidates, totalling 12 fits\n",
      "[CV] forest__n_estimators=100, pca__n_components=45 ..................\n",
      "[CV] ......... forest__n_estimators=100, pca__n_components=45 -   0.3s\n",
      "[CV] forest__n_estimators=100, pca__n_components=45 ..................\n"
     ]
    },
    {
     "name": "stderr",
     "output_type": "stream",
     "text": [
      "[Parallel(n_jobs=1)]: Done   1 out of   1 | elapsed:    0.3s remaining:    0.0s\n"
     ]
    },
    {
     "name": "stdout",
     "output_type": "stream",
     "text": [
      "[CV] ......... forest__n_estimators=100, pca__n_components=45 -   0.2s\n",
      "[CV] forest__n_estimators=100, pca__n_components=45 ..................\n",
      "[CV] ......... forest__n_estimators=100, pca__n_components=45 -   0.4s\n",
      "[CV] forest__n_estimators=200, pca__n_components=45 ..................\n",
      "[CV] ......... forest__n_estimators=200, pca__n_components=45 -   0.5s\n",
      "[CV] forest__n_estimators=200, pca__n_components=45 ..................\n",
      "[CV] ......... forest__n_estimators=200, pca__n_components=45 -   0.5s\n",
      "[CV] forest__n_estimators=200, pca__n_components=45 ..................\n",
      "[CV] ......... forest__n_estimators=200, pca__n_components=45 -   0.5s\n",
      "[CV] forest__n_estimators=500, pca__n_components=45 ..................\n",
      "[CV] ......... forest__n_estimators=500, pca__n_components=45 -   1.1s\n",
      "[CV] forest__n_estimators=500, pca__n_components=45 ..................\n",
      "[CV] ......... forest__n_estimators=500, pca__n_components=45 -   1.2s\n",
      "[CV] forest__n_estimators=500, pca__n_components=45 ..................\n",
      "[CV] ......... forest__n_estimators=500, pca__n_components=45 -   1.5s\n",
      "[CV] forest__n_estimators=800, pca__n_components=45 ..................\n",
      "[CV] ......... forest__n_estimators=800, pca__n_components=45 -   2.1s\n",
      "[CV] forest__n_estimators=800, pca__n_components=45 ..................\n",
      "[CV] ......... forest__n_estimators=800, pca__n_components=45 -   2.0s\n",
      "[CV] forest__n_estimators=800, pca__n_components=45 ..................\n",
      "[CV] ......... forest__n_estimators=800, pca__n_components=45 -   2.3s\n"
     ]
    },
    {
     "name": "stderr",
     "output_type": "stream",
     "text": [
      "[Parallel(n_jobs=1)]: Done  12 out of  12 | elapsed:   13.6s finished\n"
     ]
    },
    {
     "data": {
      "text/plain": [
       "GridSearchCV(cv=None, error_score='raise',\n",
       "       estimator=Pipeline(memory=None,\n",
       "     steps=[('pca', PCA(copy=True, iterated_power='auto', n_components=45, random_state=None,\n",
       "  svd_solver='auto', tol=0.0, whiten=False)), ('forest', RandomForestClassifier(bootstrap=True, class_weight=None, criterion='gini',\n",
       "            max_depth=None, max_features='auto', max_leaf_nodes=None,\n",
       "        ...n_jobs=1,\n",
       "            oob_score=False, random_state=None, verbose=0,\n",
       "            warm_start=False))]),\n",
       "       fit_params={}, iid=True, n_jobs=1,\n",
       "       param_grid={'pca__n_components': [45], 'forest__n_estimators': [100, 200, 500, 800]},\n",
       "       pre_dispatch='2*n_jobs', refit=True, scoring=None, verbose=2)"
      ]
     },
     "execution_count": 552,
     "metadata": {},
     "output_type": "execute_result"
    }
   ],
   "source": [
    "#Fit the GridSearch\n",
    "\n",
    "estimator.fit(x_train, y_train)"
   ]
  },
  {
   "cell_type": "code",
   "execution_count": 553,
   "metadata": {},
   "outputs": [
    {
     "name": "stdout",
     "output_type": "stream",
     "text": [
      "The best parameters: {'forest__n_estimators': 500, 'pca__n_components': 45}\n"
     ]
    }
   ],
   "source": [
    "#The best parmaters outputted with a restriction of pca_n_components = 45\n",
    "#forest_n_estimators = 500\n",
    "\n",
    "print (\"The best parameters: {0}\".format(estimator.best_params_))"
   ]
  },
  {
   "cell_type": "code",
   "execution_count": 554,
   "metadata": {
    "collapsed": true
   },
   "outputs": [],
   "source": [
    "#set the identified paramaters as the best paramaters in the pipeline\n",
    "pipe.set_params(**estimator.best_params_);"
   ]
  },
  {
   "cell_type": "code",
   "execution_count": 555,
   "metadata": {
    "collapsed": true
   },
   "outputs": [],
   "source": [
    "#Fit the Training data to the pipeline\n",
    "pipe.fit(x_train, y_train);"
   ]
  },
  {
   "cell_type": "code",
   "execution_count": 556,
   "metadata": {},
   "outputs": [],
   "source": [
    "test_predictions = pipe.predict(x_test)"
   ]
  },
  {
   "cell_type": "code",
   "execution_count": 573,
   "metadata": {},
   "outputs": [
    {
     "name": "stdout",
     "output_type": "stream",
     "text": [
      "             precision    recall  f1-score   support\n",
      "\n",
      "          0       0.72      0.94      0.81       107\n",
      "          1       0.68      0.25      0.36        53\n",
      "\n",
      "avg / total       0.71      0.71      0.66       160\n",
      "\n",
      "Accuracy with RandomForest: 71.250000%\n"
     ]
    }
   ],
   "source": [
    "print (classification_report(y_test, test_predictions))\n",
    "\n",
    "precision = accuracy_score(test_predictions, y_test) * 100\n",
    "print(\"Accuracy with RandomForest: {0:.6f}%\".format(precision))\n",
    "\n",
    "#Still yielding a poor result of 71%. It seems that there is a +- error of 10% when exploring different methods to yield \n",
    "#a higher accuracy.\n"
   ]
  },
  {
   "cell_type": "code",
   "execution_count": 558,
   "metadata": {},
   "outputs": [
    {
     "data": {
      "text/plain": [
       "<matplotlib.axes._subplots.AxesSubplot at 0x16e252a2198>"
      ]
     },
     "execution_count": 558,
     "metadata": {},
     "output_type": "execute_result"
    },
    {
     "data": {
      "image/png": "[encoded data removed]",
      "text/plain": [
       "<matplotlib.figure.Figure at 0x16e20ce6630>"
      ]
     },
     "metadata": {},
     "output_type": "display_data"
    }
   ],
   "source": [
    "#confusion matrix heat map\n",
    "\n",
    "cm = confusion_matrix(y_test, estimator.predict(x_test))\n",
    "sns.heatmap(cm,annot=True,fmt=\"d\")"
   ]
  },
  {
   "cell_type": "markdown",
   "metadata": {},
   "source": [
    "# Outlier Detection Example (LOF) with two features - Credit_AMT & AGE"
   ]
  },
  {
   "cell_type": "code",
   "execution_count": 559,
   "metadata": {
    "collapsed": true
   },
   "outputs": [],
   "source": [
    "#Read and define feature names in dataset\n",
    "X = pd.read_csv('german.data.csv', names=[\"Status\", \"Month\", \"Credit\", \"Purpose\", \"Credit_AMT\", \"Savings\", \n",
    "                                               \"Employment\", \"Installment\", \"SexMarital\", \"Position\", \"Residence\", \n",
    "                                               \"Property\", \"Age\", \"Other_Installment\", \"Housing\", \"Existing_Credits\", \n",
    "                                               \"Job\", \"Liability\", \"Phone\", \"Foreign\", \"Prediction\"])"
   ]
  },
  {
   "cell_type": "code",
   "execution_count": 560,
   "metadata": {},
   "outputs": [],
   "source": [
    "#Define a \"drop\" array \n",
    "drop = [\"Status\", \"Month\", \"Credit\", \"Purpose\", \"Savings\", \n",
    "                                               \"Employment\", \"Installment\", \"SexMarital\", \"Position\", \"Residence\", \n",
    "                                               \"Property\", \"Other_Installment\", \"Housing\", \"Existing_Credits\", \n",
    "                                               \"Job\", \"Liability\", \"Phone\", \"Foreign\", \"Prediction\"]"
   ]
  },
  {
   "cell_type": "code",
   "execution_count": 561,
   "metadata": {},
   "outputs": [],
   "source": [
    "#Trim everything but Credit_AMT and AGE\n",
    "\n",
    "X = X.drop(drop, axis=1)"
   ]
  },
  {
   "cell_type": "code",
   "execution_count": 562,
   "metadata": {},
   "outputs": [
    {
     "data": {
      "text/html": [
       "<div>\n",
       "<style>\n",
       "    .dataframe thead tr:only-child th {\n",
       "        text-align: right;\n",
       "    }\n",
       "\n",
       "    .dataframe thead th {\n",
       "        text-align: left;\n",
       "    }\n",
       "\n",
       "    .dataframe tbody tr th {\n",
       "        vertical-align: top;\n",
       "    }\n",
       "</style>\n",
       "<table border=\"1\" class=\"dataframe\">\n",
       "  <thead>\n",
       "    <tr style=\"text-align: right;\">\n",
       "      <th></th>\n",
       "      <th>Credit_AMT</th>\n",
       "      <th>Age</th>\n",
       "    </tr>\n",
       "  </thead>\n",
       "  <tbody>\n",
       "    <tr>\n",
       "      <th>0</th>\n",
       "      <td>1169</td>\n",
       "      <td>67</td>\n",
       "    </tr>\n",
       "    <tr>\n",
       "      <th>1</th>\n",
       "      <td>5951</td>\n",
       "      <td>22</td>\n",
       "    </tr>\n",
       "    <tr>\n",
       "      <th>2</th>\n",
       "      <td>2096</td>\n",
       "      <td>49</td>\n",
       "    </tr>\n",
       "    <tr>\n",
       "      <th>3</th>\n",
       "      <td>7882</td>\n",
       "      <td>45</td>\n",
       "    </tr>\n",
       "    <tr>\n",
       "      <th>4</th>\n",
       "      <td>4870</td>\n",
       "      <td>53</td>\n",
       "    </tr>\n",
       "  </tbody>\n",
       "</table>\n",
       "</div>"
      ],
      "text/plain": [
       "   Credit_AMT  Age\n",
       "0        1169   67\n",
       "1        5951   22\n",
       "2        2096   49\n",
       "3        7882   45\n",
       "4        4870   53"
      ]
     },
     "execution_count": 562,
     "metadata": {},
     "output_type": "execute_result"
    }
   ],
   "source": [
    "#The LOF algorithm is an unsupervised outlier detection method which computes the local density deviation of a given data point\n",
    "#with respect to its neighbors. It considers as outlier samples that have a substantially lower density than their neighbors.\n",
    "\n",
    "#Import the LOF module\n",
    "\n",
    "from sklearn.neighbors import LocalOutlierFactor"
   ]
  },
  {
   "cell_type": "code",
   "execution_count": 563,
   "metadata": {},
   "outputs": [],
   "source": [
    "#Define and fit the model\n",
    "\n",
    "clf = LocalOutlierFactor(n_neighbors=20)\n",
    "y_pred = clf.fit_predict(X)\n",
    "y_pred_outliers = y_pred[200:]"
   ]
  },
  {
   "cell_type": "code",
   "execution_count": 564,
   "metadata": {},
   "outputs": [],
   "source": [
    "#Plot the level sets of the decision function\n",
    "\n",
    "xx, yy = np.meshgrid(np.linspace(-5, 5, 50), np.linspace(-5, 5, 50))\n",
    "Z = clf._decision_function(np.c_[xx.ravel(), yy.ravel()])\n",
    "Z = Z.reshape(xx.shape)"
   ]
  },
  {
   "cell_type": "code",
   "execution_count": 574,
   "metadata": {},
   "outputs": [
    {
     "data": {
      "image/png": "[encoded data removed]",
      "text/plain": [
       "<matplotlib.figure.Figure at 0x16e2c1aa8d0>"
      ]
     },
     "metadata": {},
     "output_type": "display_data"
    }
   ],
   "source": [
    "plt.title(\"Local Outlier Factor (LOF)\")\n",
    "\n",
    "#Plot the outliers\n",
    "a = plt.scatter(X.iloc[:200, 0], X.iloc[:200, 1], c='white',\n",
    "                edgecolor='k', s=20)\n",
    "\n",
    "#Plot the inliers\n",
    "b = plt.scatter(X.iloc[200:, 0], X.iloc[200:, 1], c='red',\n",
    "                edgecolor='k', s=20)\n",
    "\n",
    "plt.axis('tight')\n",
    "plt.legend([a, b],\n",
    "           [\"normal observations\",\n",
    "            \"abnormal observations\"],\n",
    "           loc=\"upper left\")\n",
    "plt.show()\n",
    "\n",
    "#We can see that there is indeed outliers, but these will have to be manually located, observed and decided whether\n",
    "#they are actually outliers"
   ]
  },
  {
   "cell_type": "code",
   "execution_count": null,
   "metadata": {
    "collapsed": true
   },
   "outputs": [],
   "source": []
  }
 ],
 "metadata": {
  "kernelspec": {
   "display_name": "Python 3",
   "language": "python",
   "name": "python3"
  },
  "language_info": {
   "codemirror_mode": {
    "name": "ipython",
    "version": 3
   },
   "file_extension": ".py",
   "mimetype": "text/x-python",
   "name": "python",
   "nbconvert_exporter": "python",
   "pygments_lexer": "ipython3",
   "version": "3.6.2"
  }
 },
 "nbformat": 4,
 "nbformat_minor": 2
}
